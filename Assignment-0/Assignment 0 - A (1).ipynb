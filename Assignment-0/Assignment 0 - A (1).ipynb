{
 "cells": [
  {
   "cell_type": "code",
   "execution_count": 95,
   "metadata": {},
   "outputs": [],
   "source": [
    "#Vatsal Ketan Patel | CS577 | A20458061 | Spring2020\n",
    "\n",
    "\n",
    "import numpy as np\n",
    "import math\n",
    "import numpy.linalg as m"
   ]
  },
  {
   "cell_type": "code",
   "execution_count": 96,
   "metadata": {},
   "outputs": [],
   "source": [
    "#A) \n",
    "A = np.array([1,2,3])\n",
    "B = np.array([4,5,6])\n",
    "C = np.array([-1,1,3])"
   ]
  },
  {
   "cell_type": "code",
   "execution_count": 97,
   "metadata": {},
   "outputs": [
    {
     "name": "stdout",
     "output_type": "stream",
     "text": [
      "[-2 -1  0]\n"
     ]
    }
   ],
   "source": [
    "#1) 2A-B\n",
    "\n",
    "result = np.array([0,0,0])\n",
    "result = 2*A - B\n",
    "        \n",
    "print(result)"
   ]
  },
  {
   "cell_type": "code",
   "execution_count": 98,
   "metadata": {},
   "outputs": [
    {
     "name": "stdout",
     "output_type": "stream",
     "text": [
      "Angle between A and positive X-Axis([1,0,0]) is:  74.498640433063\n"
     ]
    }
   ],
   "source": [
    "#2) ||A|| and angle of A relative to positive X-axis\n",
    "\n",
    "vector = np.array([1,0,0])\n",
    "\n",
    "Mag_A = np.linalg.norm(A)\n",
    "Mag_vector = np.linalg.norm(vector)\n",
    "Mag_2 = Mag_A* Mag_vector\n",
    "\n",
    "result3 = 0\n",
    "result3 = np.dot(A,vector)        \n",
    "\n",
    "print(\"Angle between A and positive X-Axis([1,0,0]) is: \", np.degrees(np.arccos(result3/Mag_2)))"
   ]
  },
  {
   "cell_type": "code",
   "execution_count": 99,
   "metadata": {},
   "outputs": [
    {
     "name": "stdout",
     "output_type": "stream",
     "text": [
      "0.2672612419124244\n",
      "0.5345224838248488\n",
      "0.8017837257372732\n"
     ]
    }
   ],
   "source": [
    "#3) A, a unit vector in the direction of A\n",
    "\n",
    "unit_vector = np.array([0,0,0])\n",
    "\n",
    "unit_vector = np.divide(A,Mag_A)\n",
    "\n",
    "for uv in unit_vector:    \n",
    "    print(uv)"
   ]
  },
  {
   "cell_type": "code",
   "execution_count": 100,
   "metadata": {},
   "outputs": [
    {
     "name": "stdout",
     "output_type": "stream",
     "text": [
      "X,Y and Z Direction Cosines of A [74.49864043 57.68846676 36.6992252 ]\n"
     ]
    }
   ],
   "source": [
    "#4)  the direction cosines of A\n",
    "Mag_A = np.linalg.norm(A)\n",
    "inv = np.arccos(np.divide(A,Mag_A)) \n",
    "print(\"X,Y and Z Direction Cosines of A\",np.degrees(inv))"
   ]
  },
  {
   "cell_type": "code",
   "execution_count": 101,
   "metadata": {},
   "outputs": [
    {
     "name": "stdout",
     "output_type": "stream",
     "text": [
      "A.B =  32\n",
      "B.A =  32\n"
     ]
    }
   ],
   "source": [
    "#5) A · B and B · A\n",
    "\n",
    "result1 = 0\n",
    "result2 = 0 \n",
    "\n",
    "result1 = np.dot(A,B)\n",
    "result2 = np.dot(B,A)        \n",
    "\n",
    "print(\"A.B = \",result1)\n",
    "print(\"B.A = \",result2)\n"
   ]
  },
  {
   "cell_type": "code",
   "execution_count": 102,
   "metadata": {},
   "outputs": [
    {
     "name": "stdout",
     "output_type": "stream",
     "text": [
      "Angle between A & B:  12.933154491899135\n"
     ]
    }
   ],
   "source": [
    "#6)the angle between A and B\n",
    "\n",
    "Mag_A = np.linalg.norm(A)\n",
    "Mag_B = np.linalg.norm(B)\n",
    "Mag = Mag_A * Mag_B\n",
    "result1 = np.dot(A,B)\n",
    "theta = np.arccos(result1/Mag)\n",
    "print(\"Angle between A & B: \",np.degrees(theta))"
   ]
  },
  {
   "cell_type": "code",
   "execution_count": 103,
   "metadata": {},
   "outputs": [
    {
     "name": "stdout",
     "output_type": "stream",
     "text": [
      "Vector [-3  6 -3] is perpendicular to A as the dot-product of vector A and resultant vector is 0\n"
     ]
    }
   ],
   "source": [
    "#7)  A vector which is perpendicular to A\n",
    "\n",
    "result4 = 0\n",
    "result5 = np.array([0,0,0])\n",
    "result5 = np.cross(A,B)\n",
    "\n",
    "result4 = np.dot(result5,A)\n",
    "if (result4 == 0):\n",
    "    print(\"Vector\",result5,\"is perpendicular to A as the dot-product of vector A and resultant vector is 0\")\n",
    "else: \n",
    "    print(\"Vector\",result5,\"is not perpendicular to A a as the dot product of vector A and resultant vector is not 0\")\n"
   ]
  },
  {
   "cell_type": "code",
   "execution_count": 104,
   "metadata": {},
   "outputs": [
    {
     "name": "stdout",
     "output_type": "stream",
     "text": [
      "Cross product of A and B:  [-3  6 -3]\n",
      "Cross product of B and A:  [ 3 -6  3]\n"
     ]
    }
   ],
   "source": [
    "#8 A X B and B X A\n",
    "\n",
    "result5 = np.array([0,0,0])\n",
    "result5 = np.cross(A,B)\n",
    "\n",
    "result6 = np.array([0,0,0])\n",
    "result6 = np.cross(B,A)\n",
    "\n",
    "print(\"Cross product of A and B: \",result5)\n",
    "print(\"Cross product of B and A: \",result6)"
   ]
  },
  {
   "cell_type": "code",
   "execution_count": 105,
   "metadata": {},
   "outputs": [
    {
     "name": "stdout",
     "output_type": "stream",
     "text": [
      "Vector [-3  6 -3] is perpendicular to both A and B as the dot product of vector A and B with (A X B) respectively is 0\n",
      "Vector [ 3 -6  3] is perpendicular to both A and B as the dot product of vector A and B with (B X A) respectively is 0\n"
     ]
    }
   ],
   "source": [
    "#9 a vector which is perpendicular to both A and B\n",
    "\n",
    "result7 = 0\n",
    "result8 = 0\n",
    "result9 = 0\n",
    "result10 = 0\n",
    "\n",
    "\n",
    "result7 = np.dot(result5, A)\n",
    "result8 = np.dot(result5, B)\n",
    "result9 = np.dot(result6, A)\n",
    "result10 = np.dot(result6, B)\n",
    "    \n",
    "if (result7 == 0 and result8 ==0):\n",
    "    print(\"Vector\",result5,\"is perpendicular to both A and B as the dot product of vector A and B with (A X B) respectively is 0\")\n",
    "else: \n",
    "    print(\"Vector\",result5,\"is not perpendicular to both A and B as the dot product of the vectors is not 0\")\n",
    "if (result9 == 0 and result10 ==0):\n",
    "    print(\"Vector\",result6,\"is perpendicular to both A and B as the dot product of vector A and B with (B X A) respectively is 0\")\n",
    "else: \n",
    "    print(\"Vector\",result6,\"is not perpendicular to both A and B as the dot product of the vectors is not 0\")"
   ]
  },
  {
   "cell_type": "code",
   "execution_count": 108,
   "metadata": {},
   "outputs": [
    {
     "name": "stdout",
     "output_type": "stream",
     "text": [
      "A,B,C are linearly dependent\n"
     ]
    }
   ],
   "source": [
    "#10 the linear dependency between A, B, C\n",
    "\n",
    "ABC = np.matrix([[1,4,-1],[2,5,1],[3,6,3]])\n",
    "Det_ABC = np.round(m.det(ABC))\n",
    "if(Det_ABC==0):\n",
    "    print(\"A,B,C are linearly dependent\")\n",
    "else:\n",
    "    print(\"A,B,C are linearly independent\")"
   ]
  },
  {
   "cell_type": "code",
   "execution_count": 109,
   "metadata": {},
   "outputs": [
    {
     "name": "stdout",
     "output_type": "stream",
     "text": [
      "A^T.B:  32\n",
      "A.B^T:  [[ 4  5  6]\n",
      " [ 8 10 12]\n",
      " [12 15 18]]\n"
     ]
    }
   ],
   "source": [
    "#11 A^T.B and A.B^T\n",
    "\n",
    "result11 = 0\n",
    "result12 = np.array([[0,0,0],[0,0,0],[0,0,0]])\n",
    "\n",
    "A_trans = A.transpose()\n",
    "B_trans = B.transpose()\n",
    "\n",
    "result11 = np.dot(A_trans, B)\n",
    "result12 = np.outer(A, B_trans)\n",
    "\n",
    "print(\"A^T.B: \",result11)\n",
    "print(\"A.B^T: \",result12)"
   ]
  },
  {
   "cell_type": "code",
   "execution_count": null,
   "metadata": {},
   "outputs": [],
   "source": []
  }
 ],
 "metadata": {
  "kernelspec": {
   "display_name": "Python 3",
   "language": "python",
   "name": "python3"
  },
  "language_info": {
   "codemirror_mode": {
    "name": "ipython",
    "version": 3
   },
   "file_extension": ".py",
   "mimetype": "text/x-python",
   "name": "python",
   "nbconvert_exporter": "python",
   "pygments_lexer": "ipython3",
   "version": "3.7.4"
  }
 },
 "nbformat": 4,
 "nbformat_minor": 2
}

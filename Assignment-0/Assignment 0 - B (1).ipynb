{
 "cells": [
  {
   "cell_type": "code",
   "execution_count": 58,
   "metadata": {},
   "outputs": [],
   "source": [
    "#Vatsal Ketan Patel | CS577 | A20458061 | Spring2020\n",
    "\n",
    "import numpy as np\n",
    "import numpy.linalg as m"
   ]
  },
  {
   "cell_type": "code",
   "execution_count": 59,
   "metadata": {},
   "outputs": [],
   "source": [
    "#B)\n",
    "\n",
    "A = np.matrix([[1,2,3],[4,-2,3],[0,5,-1]])\n",
    "B = np.matrix([[1,2,1],[2,1,-4],[3,-2,1]])\n",
    "C = np.matrix([[1,2,3],[4,5,6],[-1,1,3]])"
   ]
  },
  {
   "cell_type": "code",
   "execution_count": 60,
   "metadata": {},
   "outputs": [
    {
     "name": "stdout",
     "output_type": "stream",
     "text": [
      "2A-B:  [[ 1  2  5]\n",
      " [ 6 -5 10]\n",
      " [-3 12 -3]]\n"
     ]
    }
   ],
   "source": [
    "#1) 2A − B\n",
    "\n",
    "result1 = 2*A-B\n",
    "print(\"2A-B: \", result1)"
   ]
  },
  {
   "cell_type": "code",
   "execution_count": 61,
   "metadata": {},
   "outputs": [
    {
     "name": "stdout",
     "output_type": "stream",
     "text": [
      "A.B: [[ 14  -2  -4]\n",
      " [  9   0  15]\n",
      " [  7   7 -21]]\n",
      "B.A: [[  9   3   8]\n",
      " [  6 -18  13]\n",
      " [ -5  15   2]]\n"
     ]
    }
   ],
   "source": [
    "#2) AB and BA\n",
    "\n",
    "AB = np.dot(A,B)\n",
    "BA = np.dot(B,A)\n",
    "print(\"A.B:\", AB)\n",
    "print(\"B.A:\", BA)"
   ]
  },
  {
   "cell_type": "code",
   "execution_count": 62,
   "metadata": {},
   "outputs": [
    {
     "name": "stdout",
     "output_type": "stream",
     "text": [
      "(AB)^T : [[ 14   9   7]\n",
      " [ -2   0   7]\n",
      " [ -4  15 -21]]\n",
      "B^T.A^T : [[ 14   9   7]\n",
      " [ -2   0   7]\n",
      " [ -4  15 -21]]\n"
     ]
    }
   ],
   "source": [
    "#3) (AB)^T and B^T.A^T\n",
    "\n",
    "AB_Trans = AB.getT()\n",
    "B_Trans = B.getT()\n",
    "A_Trans = A.getT()\n",
    "\n",
    "B_trans_A_Trans = np.dot(B_Trans,A_Trans)\n",
    "print(\"(AB)^T :\" , AB_Trans)\n",
    "print(\"B^T.A^T :\" , B_trans_A_Trans)"
   ]
  },
  {
   "cell_type": "code",
   "execution_count": 63,
   "metadata": {},
   "outputs": [
    {
     "name": "stdout",
     "output_type": "stream",
     "text": [
      "|A| : 54.999999999999964\n",
      "|C| : 7.494005416219837e-16\n"
     ]
    }
   ],
   "source": [
    "#4) |A| and |C|\n",
    "\n",
    "Det_A = m.det(A)\n",
    "Det_C = m.det(C)\n",
    "print(\"|A| :\", Det_A)\n",
    "print(\"|C| :\", Det_C)"
   ]
  },
  {
   "cell_type": "code",
   "execution_count": 71,
   "metadata": {},
   "outputs": [
    {
     "name": "stdout",
     "output_type": "stream",
     "text": [
      "Row Vectors from an orthogonal set\n"
     ]
    }
   ],
   "source": [
    "#5) the matrix (A, B, or C) in which the row vectors form an orthogonal set\n",
    "\n",
    "R1 = np.array([1,2,1])\n",
    "R2 = np.array([2,1,-4])\n",
    "R3 = np.array([3,-2,1])\n",
    "\n",
    "R1_R2 = np.dot(R1,R2)\n",
    "R2_R3 = np.dot(R2,R3)\n",
    "R1_R3 = np.dot(R1,R3)\n",
    "\n",
    "if(R1_R2==0 and R2_R3==0 and R1_R3==0):\n",
    "    print(\"Row Vectors from an orthogonal set\")\n",
    "else:\n",
    "    print(\"Row Vectors do not form an orthognal set\")\n",
    "\n",
    "        "
   ]
  },
  {
   "cell_type": "code",
   "execution_count": 52,
   "metadata": {},
   "outputs": [
    {
     "name": "stdout",
     "output_type": "stream",
     "text": [
      "A^-1 : [[-0.23636364  0.30909091  0.21818182]\n",
      " [ 0.07272727 -0.01818182  0.16363636]\n",
      " [ 0.36363636 -0.09090909 -0.18181818]]\n",
      "B^-1 : [[ 0.16666667  0.0952381   0.21428571]\n",
      " [ 0.33333333  0.04761905 -0.14285714]\n",
      " [ 0.16666667 -0.19047619  0.07142857]]\n"
     ]
    }
   ],
   "source": [
    "#6) A^−1 and B^−1\n",
    "\n",
    "Inverse_A = A.getI()\n",
    "Inverse_B = B.getI()\n",
    "print(\"A^-1 :\" , Inverse_A)\n",
    "print(\"B^-1 :\" , Inverse_B)\n"
   ]
  }
 ],
 "metadata": {
  "kernelspec": {
   "display_name": "Python 3",
   "language": "python",
   "name": "python3"
  },
  "language_info": {
   "codemirror_mode": {
    "name": "ipython",
    "version": 3
   },
   "file_extension": ".py",
   "mimetype": "text/x-python",
   "name": "python",
   "nbconvert_exporter": "python",
   "pygments_lexer": "ipython3",
   "version": "3.7.4"
  }
 },
 "nbformat": 4,
 "nbformat_minor": 2
}

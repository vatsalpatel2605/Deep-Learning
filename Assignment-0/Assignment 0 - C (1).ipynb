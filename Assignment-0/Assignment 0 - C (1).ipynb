{
 "cells": [
  {
   "cell_type": "code",
   "execution_count": 11,
   "metadata": {},
   "outputs": [],
   "source": [
    "#Vatsal Ketan Patel | CS577 | A20458061 | Spring2020\n",
    "\n",
    "import numpy as np\n",
    "from numpy import linalg as LA"
   ]
  },
  {
   "cell_type": "code",
   "execution_count": 12,
   "metadata": {},
   "outputs": [],
   "source": [
    "#C)\n",
    "\n",
    "A = np.matrix([[1,2],[3,2]])\n",
    "B = np.matrix([[2,-2],[-2,5]])"
   ]
  },
  {
   "cell_type": "code",
   "execution_count": 42,
   "metadata": {},
   "outputs": [
    {
     "name": "stdout",
     "output_type": "stream",
     "text": [
      "[-1.  4.]\n",
      "[[-1. -1.]\n",
      " [ 1. -1.]]\n"
     ]
    }
   ],
   "source": [
    "#1) the eigenvalues and corresponding eigenvectors of A\n",
    "\n",
    "w1, v1 = LA.eig(A)\n",
    "print(np.round(w1))\n",
    "print(np.round(v1))"
   ]
  },
  {
   "cell_type": "code",
   "execution_count": 26,
   "metadata": {},
   "outputs": [
    {
     "name": "stdout",
     "output_type": "stream",
     "text": [
      "V^-1.A.V : [[-1. -1.]\n",
      " [ 0.  4.]]\n"
     ]
    }
   ],
   "source": [
    "#2)  the matrix V^−1.A.V where V is composed of the eigenvectors of A\n",
    "\n",
    "V = np.round(v1)\n",
    "V_Inverse = V.getI()\n",
    "\n",
    "result1 = V_Inverse*A*V\n",
    "print(\"V^-1.A.V :\" , result1)"
   ]
  },
  {
   "cell_type": "code",
   "execution_count": 59,
   "metadata": {},
   "outputs": [
    {
     "name": "stdout",
     "output_type": "stream",
     "text": [
      "Dot product of eigenvectors of A : [[0.39223227]]\n"
     ]
    }
   ],
   "source": [
    "#3) the dot product between the eigenvectors of A\n",
    "\n",
    "V1 = v[:,0]\n",
    "V2 = v[:,1]\n",
    "V1.V2 = np.vdot(V1,V2)\n",
    "print(\"Dot product of eigenvectors of A :\" , V1.V2)"
   ]
  },
  {
   "cell_type": "code",
   "execution_count": 57,
   "metadata": {},
   "outputs": [
    {
     "name": "stdout",
     "output_type": "stream",
     "text": [
      "[1. 6.]\n",
      "[[-1.  0.]\n",
      " [-0. -1.]]\n",
      "Dot product of eigenvectors of B : [[-0.]]\n"
     ]
    }
   ],
   "source": [
    "#4) the dot product between the eigenvectors of B\n",
    "\n",
    "w2, v2 = LA.eig(B)\n",
    "print(np.round(w2))\n",
    "print(np.round(v2))\n",
    "V3 = v2[:,0]\n",
    "V4 = v2[:,1]\n",
    "V3.V4 = np.vdot(V3,V4)\n",
    "print(\"Dot product of eigenvectors of B :\" , np.round(V3.V4))"
   ]
  },
  {
   "cell_type": "code",
   "execution_count": 55,
   "metadata": {},
   "outputs": [
    {
     "name": "stdout",
     "output_type": "stream",
     "text": [
      "V3 and V4 are not perpendicular to each other\n"
     ]
    }
   ],
   "source": [
    "#5) the property of the eigenvectors of B and its reason\n",
    "\n",
    "if(V3.V4==0):\n",
    "    print(\"V3 and V4 are perpendicular to each other\")\n",
    "else:\n",
    "    print(\"V3 and V4 are not perpendicular to each other\")"
   ]
  }
 ],
 "metadata": {
  "kernelspec": {
   "display_name": "Python 3",
   "language": "python",
   "name": "python3"
  },
  "language_info": {
   "codemirror_mode": {
    "name": "ipython",
    "version": 3
   },
   "file_extension": ".py",
   "mimetype": "text/x-python",
   "name": "python",
   "nbconvert_exporter": "python",
   "pygments_lexer": "ipython3",
   "version": "3.7.4"
  }
 },
 "nbformat": 4,
 "nbformat_minor": 2
}

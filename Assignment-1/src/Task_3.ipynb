{
 "cells": [
  {
   "cell_type": "code",
   "execution_count": 2,
   "metadata": {},
   "outputs": [
    {
     "name": "stdout",
     "output_type": "stream",
     "text": [
      "processing fold # 0\n",
      "processing fold # 1\n",
      "processing fold # 2\n",
      "processing fold # 3\n",
      "processing fold # 4\n"
     ]
    },
    {
     "data": {
      "image/png": "[encoded data removed]",
      "text/plain": [
       "<Figure size 432x288 with 1 Axes>"
      ]
     },
     "metadata": {
      "needs_background": "light"
     },
     "output_type": "display_data"
    },
    {
     "name": "stdout",
     "output_type": "stream",
     "text": [
      "499/499 [==============================] - 0s 386us/step\n",
      "\n",
      " MSE SCORE:  0.016628333023993788\n",
      "\n",
      " MAE SCORE:  0.09149320423603058\n"
     ]
    }
   ],
   "source": [
    "# -*- coding: utf-8 -*-\n",
    "\"\"\"\n",
    "Created on Mon Feb 17 21:53:45 2020\n",
    "\n",
    "@author: vatsal\n",
    "\"\"\"\n",
    "\n",
    "import numpy as np\n",
    "import matplotlib.pyplot as plt \n",
    "import pandas as pd\n",
    "from sklearn.model_selection import train_test_split\n",
    "from sklearn.preprocessing import StandardScaler\n",
    "from keras.layers import Dense\n",
    "from keras.models import Sequential\n",
    "from keras.models import load_model\n",
    "from sklearn.impute import SimpleImputer\n",
    "from keras.callbacks import ModelCheckpoint\n",
    "\n",
    "#Function for loading the data\n",
    "def load_crime_data():\n",
    "    \n",
    "    data = pd.read_csv('http://archive.ics.uci.edu/ml/machine-learning-databases/communities/communities.data',header=None)\n",
    "    data = data.replace('?',np.nan)\n",
    "    new_data = data.iloc[:,5:].values\n",
    "    #new_data = new_data.astpye(\"float\")\n",
    "    missingvalues = SimpleImputer(missing_values = np.nan , strategy = 'mean', verbose=0)\n",
    "    missingvalues = missingvalues.fit(new_data[:,5:])\n",
    "    new_data[:,5:]= missingvalues.transform(new_data[:,5:])\n",
    "    x = new_data[:,:-1]\n",
    "    y = new_data[:,122]\n",
    "    x_train, x_test, y_train, y_test = train_test_split(x, y, test_size=0.25, random_state=42, shuffle = True)\n",
    "    return x_train, x_test, y_train, y_test\n",
    "\n",
    "x_train,x_test, y_train, y_test = load_crime_data()\n",
    "\n",
    "#Function for builiding the model    \n",
    "def build_model():\n",
    "    \n",
    "    model = Sequential()\n",
    "    model.add(Dense(64,activation='relu',input_shape=(122,)))\n",
    "    model.add(Dense(64,activation='relu'))\n",
    "    model.add(Dense(1))\n",
    "    model.compile(optimizer='Adam', loss='mean_squared_error',metrics=['mean_absolute_error'])\n",
    "    return model\n",
    "\n",
    "#Perdoming k fold cross-validation\n",
    "k = 5\n",
    "num_val_samples = len(x_train)//k\n",
    "\n",
    "all_mae_histories = []\n",
    "for i in range(k):\n",
    "    print('processing fold #', i)\n",
    "\n",
    "    # Prepare the validation data: data from partition # k\n",
    "    x_val = x_train[i * num_val_samples: (i + 1) * num_val_samples]\n",
    "    y_val = y_train[i * num_val_samples: (i + 1) * num_val_samples]\n",
    "\n",
    "    # Prepare the training data: data from all other partitions\n",
    "    partial_train_data = np.concatenate([x_train[:i * num_val_samples], x_train[(i + 1) * num_val_samples:]], axis=0)\n",
    "    partial_train_targets = np.concatenate([y_train[:i * num_val_samples], y_train[(i + 1) * num_val_samples:]], axis=0)\n",
    "\n",
    "     # Build the Keras model (already compiled)\n",
    "    model = build_model()\n",
    "    history = model.fit(partial_train_data, partial_train_targets, validation_data=(x_val, y_val), epochs=128, batch_size=64,\n",
    "                        verbose=0)\n",
    "\n",
    "    mae_history = history.history['val_mean_absolute_error']\n",
    "    all_mae_histories.append(mae_history)\n",
    "\n",
    "#Calculating average validation errors for k-fold cross validation    \n",
    "average_mae_history = [np.mean([x[i] for x in all_mae_histories]) for i in range(128)]\n",
    "\n",
    "#Plotting the validation error\n",
    "plt.plot(range(1,len(average_mae_history)+1),average_mae_history)\n",
    "plt.xlabel('Epochs')\n",
    "plt.ylabel('Validation MAE')\n",
    "plt.show()\n",
    "\n",
    "#Saving the model\n",
    "model.save('task_3.h5')\n",
    "model = load_model('task_3.h5')\n",
    "\n",
    "#Retraining the final model\n",
    "model = build_model()\n",
    "model.fit(x_train,y_train,epochs=22, batch_size=64, verbose=0)\n",
    "\n",
    "#Evalucating the model on test set\n",
    "test_mse_score, test_mae_score = model.evaluate(x_test, y_test) \n",
    "print(\"\\n MSE SCORE: \",test_mse_score)\n",
    "print(\"\\n MAE SCORE: \",test_mae_score)   \n"
   ]
  }
 ],
 "metadata": {
  "kernelspec": {
   "display_name": "Python 3",
   "language": "python",
   "name": "python3"
  },
  "language_info": {
   "codemirror_mode": {
    "name": "ipython",
    "version": 3
   },
   "file_extension": ".py",
   "mimetype": "text/x-python",
   "name": "python",
   "nbconvert_exporter": "python",
   "pygments_lexer": "ipython3",
   "version": "3.7.4"
  }
 },
 "nbformat": 4,
 "nbformat_minor": 2
}
